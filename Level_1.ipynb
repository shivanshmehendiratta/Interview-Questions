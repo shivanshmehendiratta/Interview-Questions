{
  "nbformat": 4,
  "nbformat_minor": 0,
  "metadata": {
    "colab": {
      "name": "Level 1.ipynb",
      "provenance": [],
      "collapsed_sections": [],
      "authorship_tag": "ABX9TyMw9zdW0g0YAi0YVYqofsGq",
      "include_colab_link": true
    },
    "kernelspec": {
      "name": "python3",
      "display_name": "Python 3"
    }
  },
  "cells": [
    {
      "cell_type": "markdown",
      "metadata": {
        "id": "view-in-github",
        "colab_type": "text"
      },
      "source": [
        "<a href=\"https://colab.research.google.com/github/shivanshmehendiratta/Interview-Questions/blob/master/Level_1.ipynb\" target=\"_parent\"><img src=\"https://colab.research.google.com/assets/colab-badge.svg\" alt=\"Open In Colab\"/></a>"
      ]
    },
    {
      "cell_type": "markdown",
      "metadata": {
        "id": "j5WKlPDz60Mc",
        "colab_type": "text"
      },
      "source": [
        "\n",
        "\n",
        "# **Level 1**\n",
        "\n",
        "**Tasks accomplished:**\n",
        "\n",
        "1. Get stocks from Endpoint 1\n",
        "2. Calculate 1 month average using a python library: yfinance\n",
        "3. Compare average and purchase price and post it to Endpoint 2\n",
        "4. Upload your python code to Github and send us the link\n",
        "\n",
        "\n",
        "\n",
        "\n"
      ]
    },
    {
      "cell_type": "code",
      "metadata": {
        "id": "ka19kszS97hE",
        "colab_type": "code",
        "outputId": "c5a6bd6a-2c52-4c74-a921-63b2cf00fd1a",
        "colab": {
          "base_uri": "https://localhost:8080/",
          "height": 241
        }
      },
      "source": [
        "pip install yfinance --upgrade --no-cache-dir"
      ],
      "execution_count": 11,
      "outputs": [
        {
          "output_type": "stream",
          "text": [
            "Requirement already up-to-date: yfinance in /usr/local/lib/python3.6/dist-packages (0.1.54)\n",
            "Requirement already satisfied, skipping upgrade: multitasking>=0.0.7 in /usr/local/lib/python3.6/dist-packages (from yfinance) (0.0.9)\n",
            "Requirement already satisfied, skipping upgrade: pandas>=0.24 in /usr/local/lib/python3.6/dist-packages (from yfinance) (1.0.4)\n",
            "Requirement already satisfied, skipping upgrade: requests>=2.20 in /usr/local/lib/python3.6/dist-packages (from yfinance) (2.23.0)\n",
            "Requirement already satisfied, skipping upgrade: numpy>=1.15 in /usr/local/lib/python3.6/dist-packages (from yfinance) (1.18.5)\n",
            "Requirement already satisfied, skipping upgrade: python-dateutil>=2.6.1 in /usr/local/lib/python3.6/dist-packages (from pandas>=0.24->yfinance) (2.8.1)\n",
            "Requirement already satisfied, skipping upgrade: pytz>=2017.2 in /usr/local/lib/python3.6/dist-packages (from pandas>=0.24->yfinance) (2018.9)\n",
            "Requirement already satisfied, skipping upgrade: chardet<4,>=3.0.2 in /usr/local/lib/python3.6/dist-packages (from requests>=2.20->yfinance) (3.0.4)\n",
            "Requirement already satisfied, skipping upgrade: urllib3!=1.25.0,!=1.25.1,<1.26,>=1.21.1 in /usr/local/lib/python3.6/dist-packages (from requests>=2.20->yfinance) (1.24.3)\n",
            "Requirement already satisfied, skipping upgrade: certifi>=2017.4.17 in /usr/local/lib/python3.6/dist-packages (from requests>=2.20->yfinance) (2020.4.5.1)\n",
            "Requirement already satisfied, skipping upgrade: idna<3,>=2.5 in /usr/local/lib/python3.6/dist-packages (from requests>=2.20->yfinance) (2.9)\n",
            "Requirement already satisfied, skipping upgrade: six>=1.5 in /usr/local/lib/python3.6/dist-packages (from python-dateutil>=2.6.1->pandas>=0.24->yfinance) (1.12.0)\n"
          ],
          "name": "stdout"
        }
      ]
    },
    {
      "cell_type": "code",
      "metadata": {
        "id": "H3xQXFqfv9CK",
        "colab_type": "code",
        "colab": {}
      },
      "source": [
        "#Importing the required libraries\n",
        "\n",
        "import requests\n",
        "import json\n",
        "import yfinance as yf\n",
        "from datetime import datetime"
      ],
      "execution_count": 0,
      "outputs": []
    },
    {
      "cell_type": "code",
      "metadata": {
        "id": "4ar0p91ItYoq",
        "colab_type": "code",
        "colab": {
          "base_uri": "https://localhost:8080/",
          "height": 71
        },
        "outputId": "07ac37f7-ed30-49b5-c895-d7411834fef7"
      },
      "source": [
        "#Function to get data from Endpoint 1\n",
        "\n",
        "def getJson():\n",
        " response = requests.get(\"https://sheet.best/api/sheets/c4004fdb-71a4-479c-866f-9f810072a9b3\", headers = {\"X-Api-Key\": \"YX%d6$7waWCQ#G6u8$@BlC%WQ!WPJAGsy3_vl4N9XB7C9Mo23cP56Jl!HZrQhsW6\"})\n",
        " if response.status_code >= 500:\n",
        "  print('[!] [{0}] Server Error'.format(response.status_code))\n",
        "  return None\n",
        " elif response.status_code == 404:\n",
        "  print('[!] [{0}] URL not found: [{1}]'.format(response.status_code,api_url))\n",
        "  return None\n",
        " elif response.status_code == 401:\n",
        "  print('[!] [{0}] Authentication Failed'.format(response.status_code))\n",
        "  return None\n",
        " elif response.status_code == 400:\n",
        "  print('[!] [{0}] Bad Request'.format(response.status_code))\n",
        "  return None\n",
        " elif response.status_code >= 300:\n",
        "  print('[!] [{0}] Unexpected Redirect'.format(response.status_code))\n",
        "  return None\n",
        " elif response.status_code == 200:\n",
        "  json_response = json.loads(response.content.decode('utf-8'))\n",
        "  return json_response\n",
        " else:\n",
        "  print('[?] Unexpected Error: [HTTP {0}]: Content: {1}'.format(response.status_code, response.content))\n",
        "  return None\n",
        "\n",
        "json_response = getJson()\n",
        "if json_response is not None:\n",
        " print('Request Successful')\n",
        " print(json_response)\n",
        "else:\n",
        " print('[!] Request Failed')\n"
      ],
      "execution_count": 9,
      "outputs": [
        {
          "output_type": "stream",
          "text": [
            "Request Successful\n",
            "[{'ticker': 'MSFT', 'purchasePrice': '200', 'purchasedAt': '1588018187515'}, {'ticker': 'HUBS', 'purchasePrice': '100', 'purchasedAt': '1575667222016'}, {'ticker': 'CRM', 'purchasePrice': '120', 'purchasedAt': '1575666650114'}, {'ticker': 'WORK', 'purchasePrice': '41', 'purchasedAt': '1591474223583'}, {'ticker': 'GOOGL', 'purchasePrice': '1501', 'purchasedAt': '1581023459665'}]\n"
          ],
          "name": "stdout"
        }
      ]
    },
    {
      "cell_type": "code",
      "metadata": {
        "id": "ZaYSSHGN2xbH",
        "colab_type": "code",
        "colab": {}
      },
      "source": [
        "json_response = getJson()"
      ],
      "execution_count": 0,
      "outputs": []
    },
    {
      "cell_type": "code",
      "metadata": {
        "id": "50P3cFnKU20Z",
        "colab_type": "code",
        "colab": {}
      },
      "source": [
        "def postJson(jsontobesent):\n",
        " response = requests.post(\"https://sheet.best/api/sheets/fec49be9-d3f0-4a08-bc38-5104ef9a2faf\", headers = {\"X-Api-Key\": \"F5%wnQP97E6ffD_RVzef!!3z-C@ue#uU#%RO0masY_uYPIM3R10$m2Ebrl0qKSPI\"}, json=jsontobesent)\n",
        "\n",
        "# print(response.headers)\n",
        " if response.status_code >= 500:\n",
        "  print('[!] [{0}] Server Error'.format(response.status_code))\n",
        "  return None\n",
        " elif response.status_code == 404:\n",
        "  print('[!] [{0}] URL not found: [{1}]'.format(response.status_code,\"https://sheet.best/api/sheets/fec49be9-d3f0-4a08-bc38-5104ef9a2faf\"))\n",
        "  return None\n",
        " elif response.status_code == 401:\n",
        "  print('[!] [{0}] Authentication Failed'.format(response.status_code))\n",
        "  return None\n",
        " elif response.status_code >= 400:\n",
        "  print('[!] [{0}] Bad Request'.format(response.status_code))\n",
        "  print(jsontobesent)\n",
        "  print(response.content)\n",
        "  return None\n",
        " elif response.status_code >= 300:\n",
        "  print('[!] [{0}] Unexpected redirect.'.format(response.status_code))\n",
        "  return None\n",
        " elif response.status_code == 200:\n",
        "  added_json = json.loads(response.content)\n",
        "  print(added_json)\n",
        "  print(response.status_code)\n",
        "  return added_json\n",
        " else:\n",
        "  print('[?] Unexpected Error: [HTTP {0}]: Content: {1}'.format(response.status_code, response.content))\n",
        "  return None\n",
        "\n"
      ],
      "execution_count": 0,
      "outputs": []
    },
    {
      "cell_type": "code",
      "metadata": {
        "id": "X3fVU-KKNIpZ",
        "colab_type": "code",
        "outputId": "609b3ca3-5a10-4a36-a834-eb57e2a6426c",
        "colab": {
          "base_uri": "https://localhost:8080/",
          "height": 357
        }
      },
      "source": [
        "for items in json_response:\n",
        "  items['name'] = 'shivansh'\n",
        "  items['average'] = int(sum(yf.Ticker(items['ticker']).history(period='1mo')['Close'])/len(yf.Ticker(items['ticker']).history(period='1mo')['Close']))\n",
        "  items['purchasePrice'] = int(items['purchasePrice'])\n",
        "  if(items['average']>items['purchasePrice']):\n",
        "    items['shouldSell'] = 'true'\n",
        "  else:\n",
        "    items['shouldSell'] = 'false'\n",
        "  now = datetime.now()\n",
        "  timestamp = datetime.timestamp(now)*1000\n",
        "  items['createdAt'] = int(timestamp)\n",
        "  items.pop(\"purchasedAt\", None)\n",
        "  if postJson(items) is not None:\n",
        "   print('Your response was added: ')\n",
        "  else:\n",
        "   print('[!] Request Failed')\n"
      ],
      "execution_count": 0,
      "outputs": [
        {
          "output_type": "stream",
          "text": [
            "[{'name': 'shivansh', 'average': 183, 'createdAt': 1591784617174, 'ticker': 'MSFT', 'purchasePrice': 200, 'shouldSell': 'false'}]\n",
            "200\n",
            "Your response was added: \n",
            "{'ticker': 'MSFT', 'purchasePrice': 200, 'name': 'shivansh', 'average': 183, 'shouldSell': 'false', 'createdAt': 1591784617174}\n",
            "[{'name': 'shivansh', 'average': 195, 'createdAt': 1591784618707, 'ticker': 'HUBS', 'purchasePrice': 100, 'shouldSell': 'true'}]\n",
            "200\n",
            "Your response was added: \n",
            "{'ticker': 'HUBS', 'purchasePrice': 100, 'name': 'shivansh', 'average': 195, 'shouldSell': 'true', 'createdAt': 1591784618707}\n",
            "[{'name': 'shivansh', 'average': 175, 'createdAt': 1591784619820, 'ticker': 'CRM', 'purchasePrice': 120, 'shouldSell': 'true'}]\n",
            "200\n",
            "Your response was added: \n",
            "{'ticker': 'CRM', 'purchasePrice': 120, 'name': 'shivansh', 'average': 175, 'shouldSell': 'true', 'createdAt': 1591784619820}\n",
            "[{'name': 'shivansh', 'average': 32, 'createdAt': 1591784620757, 'ticker': 'WORK', 'purchasePrice': 41, 'shouldSell': 'false'}]\n",
            "200\n",
            "Your response was added: \n",
            "{'ticker': 'WORK', 'purchasePrice': 41, 'name': 'shivansh', 'average': 32, 'shouldSell': 'false', 'createdAt': 1591784620757}\n",
            "[{'name': 'shivansh', 'average': 1410, 'createdAt': 1591784621769, 'ticker': 'GOOGL', 'purchasePrice': 1501, 'shouldSell': 'false'}]\n",
            "200\n",
            "Your response was added: \n",
            "{'ticker': 'GOOGL', 'purchasePrice': 1501, 'name': 'shivansh', 'average': 1410, 'shouldSell': 'false', 'createdAt': 1591784621769}\n"
          ],
          "name": "stdout"
        }
      ]
    }
  ]
}